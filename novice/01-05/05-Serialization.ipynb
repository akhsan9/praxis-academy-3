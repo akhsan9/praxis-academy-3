{
 "cells": [
  {
   "cell_type": "markdown",
   "metadata": {},
   "source": [
    "# Serialization\n",
    "\n",
    "## Penyimpanan dan Pertukaran Data\n",
    "Data adalah suatu informasi yang tersimpan dalam komputer terdiri dari bite/byte berisi kode biner. Dalam data sering dijumpai proses penyimpanan-pertukaran data antara memori dan storage, bekerja dengan data yang sudah dikonversi . Pada proses penyimpanan terdapat interaksi bolak-balik merubah data(obyek) dari storage ke memory. Sedangkan pertukaran data, merubah data obyek ke dalam suatu format yang dapat ditransfer atau di simpan, biasa dikenal serializing, kemudian di deserializing untuk merubah serialized data ke bentuk asli.\n",
    "\n",
    "## Flat vs Nested Data\n",
    "Sebelum melakukan serialisasi data, struktur data dapat dibuat menjadi flat atau nested. Contoh bentuk flat dan nested data:\n",
    "\n",
    "### __`1. Bentuk flat`__"
   ]
  },
  {
   "cell_type": "markdown",
   "metadata": {},
   "source": [
    "{ \"Type\" : \"A\", \"field1\": \"value1\", \"field2\": \"value2\", \"field3\": \"value3\" }"
   ]
  },
  {
   "cell_type": "markdown",
   "metadata": {},
   "source": [
    "### Contoh flat data:\n",
    "#### 1. Data sederhana (data flat)"
   ]
  },
  {
   "cell_type": "code",
   "execution_count": null,
   "metadata": {},
   "outputs": [],
   "source": [
    "# a sebagai flat data\n",
    "a =  { \"Type\" : \"A\", \"key1\": \"value1\", \"key2\": \"value2\", \"key\": \"value3\" }\n",
    "# dapat ditulis sebagai berikut\n",
    "# a = open('/file.py', 'r')\n",
    "\n",
    "# output data\n",
    "print(a)\n",
    "print()\n",
    "print(repr(a))"
   ]
  },
  {
   "cell_type": "markdown",
   "metadata": {},
   "source": [
    "#### 2. CSV file"
   ]
  },
  {
   "cell_type": "code",
   "execution_count": null,
   "metadata": {},
   "outputs": [],
   "source": [
    "# read file csv\n",
    "import csv\n",
    "with open('username.csv', newline='') as f:\n",
    "    reader = csv.reader(f)\n",
    "    for row in reader:\n",
    "        print(row)"
   ]
  },
  {
   "cell_type": "code",
   "execution_count": null,
   "metadata": {},
   "outputs": [],
   "source": [
    "# write data csv ke file\n",
    "import csv\n",
    "type = 'praxis'\n",
    "with open('file.csv', 'w', newline='') as f:\n",
    "    writer = csv.writer(f)\n",
    "    writer.writerows(type)\n",
    "with open('file.csv', newline='') as f:\n",
    "    reader = csv.reader(f)\n",
    "    for row in reader:\n",
    "        print(row)"
   ]
  },
  {
   "cell_type": "markdown",
   "metadata": {},
   "source": [
    "#### 3. Array di Library NumPy"
   ]
  },
  {
   "cell_type": "code",
   "execution_count": null,
   "metadata": {},
   "outputs": [],
   "source": [
    "import numpy as np\n",
    "\n",
    "# konversi array ke format byte\n",
    "print('array Numpy ke byte')\n",
    "byte_output = np.array([[1,2,3], [4,5,6], [7,8,9]]).tobytes()\n",
    "print(byte_output)\n",
    "print()\n",
    "\n",
    "# konversi format byte ke array NumPy\n",
    "print('byte ke array Numpy')\n",
    "array_format = np.frombuffer(byte_output)\n",
    "print(array_format)"
   ]
  },
  {
   "cell_type": "markdown",
   "metadata": {},
   "source": [
    "#### 4. Pickle"
   ]
  },
  {
   "cell_type": "code",
   "execution_count": null,
   "metadata": {},
   "outputs": [],
   "source": [
    "import pickle\n",
    "\n",
    "#Here's an example dict\n",
    "grades = { 'Alice': 89, 'Bob': 72, 'Charles': 87 }\n",
    "\n",
    "#Use dumps to convert the object to a serialized string\n",
    "serial_grades = pickle.dumps( grades )\n",
    "print(serial_grades)\n",
    "#Use loads to de-serialize an object\n",
    "received_grades = pickle.loads( serial_grades )\n",
    "print(received_grades)"
   ]
  },
  {
   "cell_type": "markdown",
   "metadata": {},
   "source": [
    "### __`2. Nested Data`__\n",
    "`{\"A\"\n",
    "    { \"field1\": \"value1\", \"field2\": \"value2\", \"field3\": \"value3\" } }`\n",
    "\n",
    "### Contoh Nested Flat\n",
    "#### 1. YAML"
   ]
  },
  {
   "cell_type": "code",
   "execution_count": null,
   "metadata": {},
   "outputs": [],
   "source": [
    "# baca file yaml\n",
    "import yaml\n",
    "with open('example.yml', 'r', newline='') as f:\n",
    "    try:\n",
    "        print(yaml.load(f))\n",
    "    except yaml.YAMLError as ymlexcp:\n",
    "        print(ymlexcp)"
   ]
  },
  {
   "cell_type": "markdown",
   "metadata": {},
   "source": [
    "#### 2. XML"
   ]
  },
  {
   "cell_type": "code",
   "execution_count": null,
   "metadata": {},
   "outputs": [],
   "source": [
    "# membaca file xml\n",
    "import xml.etree.ElementTree as ET\n",
    "tree = ET.parse('example.xml')\n",
    "root = tree.getroot()\n"
   ]
  },
  {
   "cell_type": "markdown",
   "metadata": {},
   "source": [
    "#### 3. JSON\n",
    "`json` module mempunyai 2 method untuk serializing Python object ke JSON format.\n",
    "json.dump() --> convert Python data kedalam json format / encode\n",
    "json.dumps() --> convert Python data ke dalam __string__ json\n",
    "\n",
    "json.load() --> merubah json format ke python data / decode\n",
    "json.loads() --> "
   ]
  },
  {
   "cell_type": "code",
   "execution_count": null,
   "metadata": {},
   "outputs": [],
   "source": [
    "# read file json\n",
    "import json\n",
    "with open('example.json', 'r') as f:\n",
    "    data = json.load(f)\n",
    "print(data)"
   ]
  },
  {
   "cell_type": "markdown",
   "metadata": {},
   "source": [
    "### serilasasi JSON\n",
    "\n",
    "Perubahan tipe data Python ke JSON\n",
    "\n",
    "|Python|JSON\n",
    "|:---:|:---:\n",
    "|dict|object\n",
    "|list, tuple|array\n",
    "|str|string\n",
    "|int, long, float|number\n",
    "|True|true\n",
    "|False|false\n",
    "|None|null\n",
    "||\n",
    "\n",
    "### deserialisasi JSON\n",
    "|JSON|Python\n",
    "|:---:|:---:\n",
    "|object|dict\n",
    "|array|list\n",
    "|string|str\n",
    "|number (int)|int\n",
    "|number (real)|float\n",
    "|true|True\n",
    "|false|False\n",
    "|null|None"
   ]
  },
  {
   "cell_type": "markdown",
   "metadata": {},
   "source": [
    "Kelebihan JSON:\n",
    "1. Lebih ringan\n",
    "2. Penulisan mudah\n",
    "3. Gampang dibaca"
   ]
  }
 ],
 "metadata": {
  "kernelspec": {
   "display_name": "Python 3",
   "language": "python",
   "name": "python3"
  },
  "language_info": {
   "codemirror_mode": {
    "name": "ipython",
    "version": 3
   },
   "file_extension": ".py",
   "mimetype": "text/x-python",
   "name": "python",
   "nbconvert_exporter": "python",
   "pygments_lexer": "ipython3",
   "version": "3.8.6"
  }
 },
 "nbformat": 4,
 "nbformat_minor": 4
}
