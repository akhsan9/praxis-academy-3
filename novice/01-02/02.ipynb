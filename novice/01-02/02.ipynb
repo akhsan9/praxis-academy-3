{
 "cells": [
  {
   "cell_type": "markdown",
   "metadata": {},
   "source": [
    "### Bab 5\n",
    "# STRUKTUR DATA\n",
    "Struktur data merupakan sutau cara untuk menyimpan, menyusun , mengelompokan dan merepresentasikan suatu data."
   ]
  },
  {
   "cell_type": "markdown",
   "metadata": {},
   "source": [
    "## List\n",
    "Beberapa fungsi dalam list:"
   ]
  },
  {
   "cell_type": "code",
   "execution_count": 2,
   "metadata": {},
   "outputs": [],
   "source": [
    "list = [1, 2, 4, 3, 2, 1, 5, 6, 2]"
   ]
  },
  {
   "cell_type": "code",
   "execution_count": 13,
   "metadata": {},
   "outputs": [
    {
     "data": {
      "text/plain": [
       "[2, 4, 3, 2, 1, 5, 6, 2]"
      ]
     },
     "execution_count": 13,
     "metadata": {},
     "output_type": "execute_result"
    }
   ],
   "source": [
    "list.append(7)        # menambah 1 item diakhir list\n",
    "list\n",
    "l = [1, 2, 3]\n",
    "list.extend(l)        # menambah (list) l kedalam list\n",
    "list = [1, 2, 4, 3, 2, 1, 5, 6, 2]\n",
    "list.insert(2, \"True\") # memasukkan item 'True' ke index 2\n",
    "list.remove(1)    # menghilangkan item 'True' di awal\n",
    "#list.pop(i)     # mengambil dan mengembalikan item i, i=0 last item\n",
    "list.clear()      # menghapus semua item list\n"
   ]
  },
  {
   "cell_type": "code",
   "execution_count": null,
   "metadata": {},
   "outputs": [],
   "source": []
  },
  {
   "cell_type": "code",
   "execution_count": null,
   "metadata": {},
   "outputs": [],
   "source": []
  }
 ],
 "metadata": {
  "kernelspec": {
   "display_name": "Python 3",
   "language": "python",
   "name": "python3"
  },
  "language_info": {
   "codemirror_mode": {
    "name": "ipython",
    "version": 3
   },
   "file_extension": ".py",
   "mimetype": "text/x-python",
   "name": "python",
   "nbconvert_exporter": "python",
   "pygments_lexer": "ipython3",
   "version": "3.8.6"
  }
 },
 "nbformat": 4,
 "nbformat_minor": 4
}
