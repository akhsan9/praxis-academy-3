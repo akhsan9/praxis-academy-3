{
 "cells": [
  {
   "cell_type": "markdown",
   "metadata": {},
   "source": [
    "### Bab 5\n",
    "# STRUKTUR DATA\n",
    "Struktur data merupakan sutau cara untuk menyimpan, menyusun , mengelompokan dan merepresentasikan suatu data."
   ]
  },
  {
   "cell_type": "markdown",
   "metadata": {},
   "source": [
    "## 5.1 List\n",
    "Beberapa fungsi dalam list:"
   ]
  },
  {
   "cell_type": "code",
   "execution_count": 2,
   "metadata": {},
   "outputs": [],
   "source": [
    "list = [1, 2, 4, 3, 2, 1, 5, 6, 2]"
   ]
  },
  {
   "cell_type": "code",
   "execution_count": 13,
   "metadata": {},
   "outputs": [
    {
     "data": {
      "text/plain": [
       "[2, 4, 3, 2, 1, 5, 6, 2]"
      ]
     },
     "execution_count": 13,
     "metadata": {},
     "output_type": "execute_result"
    }
   ],
   "source": [
    "list.append(7)        # menambah 1 item diakhir list\n",
    "list\n",
    "l = [1, 2, 3]\n",
    "list.extend(l)        # menambah (list) l kedalam list\n",
    "list = [1, 2, 4, 3, 2, 1, 5, 6, 2]\n",
    "list.insert(2, \"True\") # memasukkan item 'True' ke index 2\n",
    "list.remove(1)    # menghilangkan item 'True' di awal\n",
    "#list.pop(i)     # mengambil dan mengembalikan item i, i=0 last item\n",
    "list.clear()      # menghapus semua item list\n",
    "list.count(2)    # menghitung banyaknya item 2 dalam list"
   ]
  },
  {
   "cell_type": "markdown",
   "metadata": {},
   "source": [
    "List sebagai Stack atau Queues"
   ]
  },
  {
   "cell_type": "code",
   "execution_count": null,
   "metadata": {},
   "outputs": [],
   "source": [
    "Stack adalah kumpulan item dimana item terakhir yang dimasukkan menjadi item pertama yang dapat dikeluarkan.\n",
    "[`last-in, first-out`]. Fungsi yang digunakan `append()`, untuk memasukkan, dan `pop()` untuk mengeluarkan."
   ]
  },
  {
   "cell_type": "code",
   "execution_count": 1,
   "metadata": {},
   "outputs": [
    {
     "data": {
      "text/plain": [
       "[1, 2, 3, 4]"
      ]
     },
     "execution_count": 1,
     "metadata": {},
     "output_type": "execute_result"
    }
   ],
   "source": [
    "stack = [1, 2, 3]\n",
    "stack.append(4)\n",
    "stack"
   ]
  },
  {
   "cell_type": "code",
   "execution_count": 2,
   "metadata": {},
   "outputs": [
    {
     "data": {
      "text/plain": [
       "4"
      ]
     },
     "execution_count": 2,
     "metadata": {},
     "output_type": "execute_result"
    }
   ],
   "source": [
    "stack.pop()"
   ]
  },
  {
   "cell_type": "markdown",
   "metadata": {},
   "source": [
    "Queues, kebalikan dari stack, dimana elemen pertama yang masuk menjadi elemen pertama yang keluar [`first-in, first-out`]. Sebelum menggunakan, kita perlu import module `collections.deque`."
   ]
  },
  {
   "cell_type": "code",
   "execution_count": 3,
   "metadata": {},
   "outputs": [
    {
     "data": {
      "text/plain": [
       "'mangga'"
      ]
     },
     "execution_count": 3,
     "metadata": {},
     "output_type": "execute_result"
    }
   ],
   "source": [
    "from collections import deque\n",
    "queue = deque([\"mangga\", \"jeruk\", \"apel\"])\n",
    "queue.append(\"srikaya\")               # memasukkan item srikaya\n",
    "queue.popleft()                       # mengeluarkan item pertama / index [0]"
   ]
  },
  {
   "cell_type": "code",
   "execution_count": null,
   "metadata": {},
   "outputs": [],
   "source": [
    "List Comprehensions.\n",
    "List comprehension digunakan untuk membuat list lebih mudah."
   ]
  },
  {
   "cell_type": "code",
   "execution_count": 8,
   "metadata": {},
   "outputs": [
    {
     "data": {
      "text/plain": [
       "[0, 1, 4, 9, 16, 25, 36, 49, 64, 81]"
      ]
     },
     "execution_count": 8,
     "metadata": {},
     "output_type": "execute_result"
    }
   ],
   "source": [
    "bilangan_genap = [x**2 for x in range(10)]\n",
    "bilangan_genap"
   ]
  },
  {
   "cell_type": "markdown",
   "metadata": {},
   "source": [
    "## 5.2 Tuples\n",
    "Perbedaan tuple dan list adalah, tuple bersifat tidak dapat berubah/_immutable_ sedangkan list bersifat dapat berubah/_mutable_. Fungsi list juga dapat diaplikasikan ke dalam tuple, kecuali fungsi yang mengubah item contohnya append() atau pop() dsb."
   ]
  },
  {
   "cell_type": "code",
   "execution_count": 13,
   "metadata": {},
   "outputs": [
    {
     "data": {
      "text/plain": [
       "3"
      ]
     },
     "execution_count": 13,
     "metadata": {},
     "output_type": "execute_result"
    }
   ],
   "source": [
    "tuple = (1, 2, 3)\n",
    "tuple\n",
    "len(tuple)"
   ]
  },
  {
   "cell_type": "markdown",
   "metadata": {},
   "source": [
    "## 5.3 Sets\n",
    "Set adalah tipe data kumpulan item tidak beraturan dan tunggal."
   ]
  },
  {
   "cell_type": "code",
   "execution_count": 14,
   "metadata": {},
   "outputs": [
    {
     "data": {
      "text/plain": [
       "{'a', 'd', 'e', 'i', 'n', 'o', 's'}"
      ]
     },
     "execution_count": 14,
     "metadata": {},
     "output_type": "execute_result"
    }
   ],
   "source": [
    "a = set('indonesia')\n",
    "a"
   ]
  },
  {
   "cell_type": "markdown",
   "metadata": {},
   "source": [
    "## 5.4 Dictionaries\n",
    "Dictionaries adalah tipe kumpulan data yang mempunyai pasangan _key-value_."
   ]
  },
  {
   "cell_type": "code",
   "execution_count": 18,
   "metadata": {},
   "outputs": [
    {
     "data": {
      "text/plain": [
       "{'ikan': 'air', 'burung': 'udara', 'kerbau': 'tanah'}"
      ]
     },
     "execution_count": 18,
     "metadata": {},
     "output_type": "execute_result"
    }
   ],
   "source": [
    "dict = {\n",
    "    \"ikan\":\"air\",\n",
    "    \"burung\":\"udara\",\n",
    "    \"kerbau\":\"tanah\"\n",
    "}\n",
    "dict"
   ]
  },
  {
   "cell_type": "code",
   "execution_count": 19,
   "metadata": {},
   "outputs": [
    {
     "data": {
      "text/plain": [
       "'tanah'"
      ]
     },
     "execution_count": 19,
     "metadata": {},
     "output_type": "execute_result"
    }
   ],
   "source": [
    "dict[\"kerbau\"]"
   ]
  },
  {
   "cell_type": "code",
   "execution_count": 23,
   "metadata": {},
   "outputs": [
    {
     "name": "stdout",
     "output_type": "stream",
     "text": [
      "0\n",
      "2\n",
      "4\n",
      "6\n",
      "8\n",
      "10\n",
      "12\n",
      "14\n",
      "16\n",
      "18\n"
     ]
    }
   ],
   "source": [
    "## Perulangan For di list\n",
    "list = [x*2 for x in range(10)]\n",
    "for l in list:\n",
    "    print(l)"
   ]
  },
  {
   "cell_type": "code",
   "execution_count": 27,
   "metadata": {},
   "outputs": [
    {
     "name": "stdout",
     "output_type": "stream",
     "text": [
      "Juventus Ronaldo\n",
      "Milan Ibahimovic\n",
      "Inter Lukaku\n",
      "Arsenal Ozil\n",
      "Ronaldo\n",
      "Ibahimovic\n",
      "Lukaku\n",
      "Ozil\n",
      "Juventus\n",
      "Milan\n",
      "Inter\n",
      "Arsenal\n"
     ]
    }
   ],
   "source": [
    "## Perulangan for di dictionaries\n",
    "soccer_star = {\n",
    "    \"Juventus\":\"Ronaldo\",\n",
    "    \"Milan\": \"Ibahimovic\",\n",
    "    \"Inter\":\"Lukaku\",\n",
    "    \"Arsenal\":\"Ozil\"\n",
    "}\n",
    "for club, star in soccer_star.items():     #__.items() untuk mengakses pasangan key-value\n",
    "    print(club, star)\n",
    "\n",
    "for star in soccer_star.values():          #__.values() untuk akses semua value\n",
    "    print(star)\n",
    "    \n",
    "for club in soccer_star.keys():            #__.keys() mengakes semua key\n",
    "    print(club)"
   ]
  },
  {
   "cell_type": "markdown",
   "metadata": {},
   "source": [
    "## Bab 6 MODULE\n",
    "Modul adalah sebuah file yang berisi kode pemrograman python, biasanya berekstensi .py. Misalkan example.py, disebut modul dan nama modulnya adalah example.\n",
    "Modul digunakan untuk memecah sebuah program besar menjadi file – file yang lebih kecil agar lebih mudah dimantain dan diorganisir. Modul reusable, artinya dapat dipakai berulang dimana saja diperlukan."
   ]
  },
  {
   "cell_type": "code",
   "execution_count": 38,
   "metadata": {},
   "outputs": [
    {
     "name": "stdout",
     "output_type": "stream",
     "text": [
      "sys.version: \t 3.8.6 (default, Oct  6 2020, 03:22:36) \n",
      "[GCC 7.5.0]\n",
      "sys.maxsize: \t 9223372036854775807\n",
      "sys.path: \t ['/home/elmos/praxs/praxis-academy/novice/01-02', '/usr/lib/python38.zip', '/usr/lib/python3.8', '/usr/lib/python3.8/lib-dynload', '', '/home/elmos/praxs/python_env/lib/python3.8/site-packages', '/home/elmos/praxs/python_env/lib/python3.8/site-packages/IPython/extensions', '/home/elmos/.ipython']\n",
      "sys.platform: \t linux\n"
     ]
    }
   ],
   "source": [
    "import sys\n",
    "print('sys.version: \\t', sys.version)\n",
    "print('sys.maxsize: \\t', sys.maxsize)\n",
    "print('sys.path: \\t', sys.path)\n",
    "print('sys.platform: \\t', sys.platform)"
   ]
  },
  {
   "cell_type": "code",
   "execution_count": 33,
   "metadata": {},
   "outputs": [
    {
     "data": {
      "text/plain": [
       "4"
      ]
     },
     "execution_count": 33,
     "metadata": {},
     "output_type": "execute_result"
    }
   ],
   "source": [
    "import module\n",
    "module.tambah(1,5)"
   ]
  },
  {
   "cell_type": "code",
   "execution_count": 34,
   "metadata": {},
   "outputs": [
    {
     "data": {
      "text/plain": [
       "456747"
      ]
     },
     "execution_count": 34,
     "metadata": {},
     "output_type": "execute_result"
    }
   ],
   "source": [
    "import module as m\n",
    "m.tambah(232323,224424)"
   ]
  },
  {
   "cell_type": "markdown",
   "metadata": {},
   "source": [
    "## Bab 7 Input dan Output"
   ]
  },
  {
   "cell_type": "code",
   "execution_count": 41,
   "metadata": {},
   "outputs": [
    {
     "name": "stdin",
     "output_type": "stream",
     "text": [
      "Masukkan angka:  56\n"
     ]
    },
    {
     "name": "stdout",
     "output_type": "stream",
     "text": [
      "56\n"
     ]
    },
    {
     "data": {
      "text/plain": [
       "str"
      ]
     },
     "execution_count": 41,
     "metadata": {},
     "output_type": "execute_result"
    }
   ],
   "source": [
    "# Input\n",
    "n = input(\"Masukkan angka: \")          # input() adalah standar mendapatkan input di python, mengembalikan nilai string\n",
    "print(int(n))\n",
    "type(n)"
   ]
  },
  {
   "cell_type": "code",
   "execution_count": 42,
   "metadata": {},
   "outputs": [
    {
     "data": {
      "text/plain": [
       "'Selamat pagi paxis'"
      ]
     },
     "execution_count": 42,
     "metadata": {},
     "output_type": "execute_result"
    }
   ],
   "source": [
    "# Output\n",
    "# output format dalam string menggunakan f-string\n",
    "name = \"paxis\"\n",
    "f'Selamat pagi, {name}'"
   ]
  },
  {
   "cell_type": "code",
   "execution_count": 44,
   "metadata": {},
   "outputs": [
    {
     "data": {
      "text/plain": [
       "<_io.TextIOWrapper name='file.txt' mode='w' encoding='UTF-8'>"
      ]
     },
     "execution_count": 44,
     "metadata": {},
     "output_type": "execute_result"
    }
   ],
   "source": [
    "# Reading File\n",
    "# format reading file: open(filename, mode)\n",
    "f = open('file.txt', 'w')\n",
    "f"
   ]
  },
  {
   "cell_type": "code",
   "execution_count": 50,
   "metadata": {},
   "outputs": [],
   "source": [
    "# mode reading file\n",
    "# 'r'   --> only read\n",
    "# 'w'   --> only writing\n",
    "# 'a'   --> menambahkan data pada akhir file\n",
    "# 'r+'  --> reading + writing\n",
    "# dapat digunakan 'with' untuk mempermudah penulisan\n",
    "# _.read()  --> membaca file setelah file open mode\n",
    "# _.write()  --> menulis di file setelah file open mode\n",
    "# _.close() digunakan untuk menutup file,\n",
    "\n",
    "with open('file.txt') as f:\n",
    "    baca = f.read()\n",
    "f.close()"
   ]
  },
  {
   "cell_type": "code",
   "execution_count": 2,
   "metadata": {},
   "outputs": [
    {
     "name": "stdin",
     "output_type": "stream",
     "text": [
      "Masukan nama:  irul\n",
      "Masukan alamat:  cangkringan\n"
     ]
    }
   ],
   "source": [
    "nama = input('Masukan nama: ')\n",
    "alamat = input('Masukan alamat: ')\n",
    "teks = f'Nama saya: {nama}, alamat di: {alamat}'\n",
    "teks1= 'Sedang mengikut bootcamp praxis!'"
   ]
  },
  {
   "cell_type": "code",
   "execution_count": 6,
   "metadata": {},
   "outputs": [],
   "source": [
    "f = open('file.txt', 'r+')\n",
    "f.write(teks)\n",
    "f.write(\"\\n\")\n",
    "f.write(teks1)\n",
    "f.readline()\n",
    "#f.close()"
   ]
  },
  {
   "cell_type": "code",
   "execution_count": 7,
   "metadata": {},
   "outputs": [
    {
     "data": {
      "text/plain": [
       "<_io.TextIOWrapper name='file.txt' mode='r+' encoding='UTF-8'>"
      ]
     },
     "execution_count": 7,
     "metadata": {},
     "output_type": "execute_result"
    }
   ],
   "source": [
    "f"
   ]
  },
  {
   "cell_type": "code",
   "execution_count": 11,
   "metadata": {},
   "outputs": [
    {
     "data": {
      "text/plain": [
       "0"
      ]
     },
     "execution_count": 11,
     "metadata": {},
     "output_type": "execute_result"
    }
   ],
   "source": [
    "f = open('file.txt', 'r+')\n",
    "f.truncate(0)"
   ]
  },
  {
   "cell_type": "markdown",
   "metadata": {},
   "source": [
    "## Bab 8 Errors dan Exceptions"
   ]
  },
  {
   "cell_type": "code",
   "execution_count": 12,
   "metadata": {},
   "outputs": [
    {
     "ename": "SyntaxError",
     "evalue": "Missing parentheses in call to 'print'. Did you mean print(\"Praxis\")? (<ipython-input-12-fcfe5249e15c>, line 2)",
     "output_type": "error",
     "traceback": [
      "\u001b[0;36m  File \u001b[0;32m\"<ipython-input-12-fcfe5249e15c>\"\u001b[0;36m, line \u001b[0;32m2\u001b[0m\n\u001b[0;31m    print \"Praxis\"\u001b[0m\n\u001b[0m          ^\u001b[0m\n\u001b[0;31mSyntaxError\u001b[0m\u001b[0;31m:\u001b[0m Missing parentheses in call to 'print'. Did you mean print(\"Praxis\")?\n"
     ]
    }
   ],
   "source": [
    "# Syntax Errors\n",
    "print \"Praxis\""
   ]
  },
  {
   "cell_type": "code",
   "execution_count": 13,
   "metadata": {},
   "outputs": [
    {
     "ename": "NameError",
     "evalue": "name 'a' is not defined",
     "output_type": "error",
     "traceback": [
      "\u001b[0;31m---------------------------------------------------------------------------\u001b[0m",
      "\u001b[0;31mNameError\u001b[0m                                 Traceback (most recent call last)",
      "\u001b[0;32m<ipython-input-13-9a900ad46e53>\u001b[0m in \u001b[0;36m<module>\u001b[0;34m\u001b[0m\n\u001b[1;32m      1\u001b[0m \u001b[0;31m# Exceptions\u001b[0m\u001b[0;34m\u001b[0m\u001b[0;34m\u001b[0m\u001b[0;34m\u001b[0m\u001b[0m\n\u001b[0;32m----> 2\u001b[0;31m \u001b[0;36m2\u001b[0m \u001b[0;34m+\u001b[0m \u001b[0ma\u001b[0m\u001b[0;34m\u001b[0m\u001b[0;34m\u001b[0m\u001b[0m\n\u001b[0m",
      "\u001b[0;31mNameError\u001b[0m: name 'a' is not defined"
     ]
    }
   ],
   "source": [
    "# Exceptions\n",
    "2 + a"
   ]
  },
  {
   "cell_type": "code",
   "execution_count": 15,
   "metadata": {},
   "outputs": [
    {
     "name": "stdout",
     "output_type": "stream",
     "text": [
      "Percobaan memasukkan angka!!\n"
     ]
    },
    {
     "name": "stdin",
     "output_type": "stream",
     "text": [
      "Masukkan angka:  pkpko\n"
     ]
    },
    {
     "name": "stdout",
     "output_type": "stream",
     "text": [
      "Oh, bukan angka!\n",
      "Percobaan memasukkan angka!!\n"
     ]
    },
    {
     "name": "stdin",
     "output_type": "stream",
     "text": [
      "Masukkan angka:  22w\n"
     ]
    },
    {
     "name": "stdout",
     "output_type": "stream",
     "text": [
      "Oh, bukan angka!\n",
      "Percobaan memasukkan angka!!\n"
     ]
    },
    {
     "name": "stdin",
     "output_type": "stream",
     "text": [
      "Masukkan angka:  222w\n"
     ]
    },
    {
     "name": "stdout",
     "output_type": "stream",
     "text": [
      "Oh, bukan angka!\n"
     ]
    }
   ],
   "source": [
    "# Handling Exceptions\n",
    "for x in range(3):\n",
    "    if x < 3:\n",
    "        try:\n",
    "            print(\"Percobaan memasukkan angka!!\")\n",
    "            x = int(input(\"Masukkan angka: \"))\n",
    "            break\n",
    "        except ValueError:\n",
    "            print('Oh, bukan angka!')\n",
    "    x += 1"
   ]
  },
  {
   "cell_type": "code",
   "execution_count": 16,
   "metadata": {},
   "outputs": [
    {
     "name": "stdout",
     "output_type": "stream",
     "text": [
      "Percobaan memasukkan angka!!\n"
     ]
    },
    {
     "name": "stdin",
     "output_type": "stream",
     "text": [
      "Masukkan angka:  2323d\n"
     ]
    },
    {
     "name": "stdout",
     "output_type": "stream",
     "text": [
      "Percobaan memasukkan angka!!\n"
     ]
    },
    {
     "name": "stdin",
     "output_type": "stream",
     "text": [
      "Masukkan angka:  22\n"
     ]
    }
   ],
   "source": []
  },
  {
   "cell_type": "code",
   "execution_count": null,
   "metadata": {},
   "outputs": [],
   "source": []
  }
 ],
 "metadata": {
  "kernelspec": {
   "display_name": "Python 3",
   "language": "python",
   "name": "python3"
  },
  "language_info": {
   "codemirror_mode": {
    "name": "ipython",
    "version": 3
   },
   "file_extension": ".py",
   "mimetype": "text/x-python",
   "name": "python",
   "nbconvert_exporter": "python",
   "pygments_lexer": "ipython3",
   "version": "3.8.6"
  }
 },
 "nbformat": 4,
 "nbformat_minor": 4
}
