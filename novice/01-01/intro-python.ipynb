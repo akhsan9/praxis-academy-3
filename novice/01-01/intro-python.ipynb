{
 "cells": [
  {
   "cell_type": "markdown",
   "metadata": {},
   "source": [
    "# Python Tutorial"
   ]
  },
  {
   "cell_type": "markdown",
   "metadata": {},
   "source": [
    "## Bab 1\n",
    "Python adalah salah satu bahasa pemrograman tingkat tinggi \n",
    "karena sintak yang mirip dengan bahasa manusia. Python memiliki \n",
    "struktur dan dukungan yang luat dalam pembuatan program, tipe data tingkat tinggi\n",
    "seperti arrays dan dictionary yang fleksibel. Python dapat diaplikasikan\n",
    "ke berbagai bidang, contohnya web development, Artificial Inteligence, Machine Learning,\n",
    "Data Scientist dan lain sebagainya.\n",
    "Python merupakan bahasa interpretasi, kode sumber python dapat langsung\n",
    "dieksekusi tanpa harus melalui proses _write/compile/test/re-compile_.\n",
    "Python memungkinkan suatu program dapat ditulis lebih padat dan mudah dibaca.\n",
    "Penulisan kode sumber Python lebih sedikit dibanding dengan bahasa C, C++ ataupun Java,\n",
    "karena beberapa hal:\n",
    "    1. Tipe data tingkat tinggi dapat ditulis dalam sebuah baris kode\n",
    "    2. Penggunaan identasi sebagai penanda suatu blok kode\n",
    "    3. Tidak perlu menuliskan tipe data suatu variabel.\n",
    "    \n",
    "---"
   ]
  },
  {
   "cell_type": "markdown",
   "metadata": {},
   "source": [
    "## Bab 2 Penggunaan Interpreter\n",
    "\n",
    "### 2.1 Memanggil Intreprer\n",
    "Python interpreter biasanya berada `/usr/local/bin/python3`, untuk memanggil intepreter menggunakan perintah `python3` setelah selesai, gunakan perintah `quit()` atau tekan`Control-D`. "
   ]
  },
  {
   "cell_type": "markdown",
   "metadata": {},
   "source": []
  },
  {
   "cell_type": "markdown",
   "metadata": {},
   "source": [
    "#### 2.1.1 Argument Passing\n",
    "Interpreter dapat digunakan untuk menjalankan kode sumber, biasanya diperlukan beberapa _arguments_ dalam bentuk _list_ dari beberapa .`List` `argument` dapat diakses melalui `import sys`, banyaknya `argument`setidaknya ada satu. `sys.argv[0]` artinya tidak ada _argument_ yangdisyaratkan kode sumber."
   ]
  },
  {
   "cell_type": "markdown",
   "metadata": {},
   "source": [
    "#### 2.1.2 Mode Interactive\n",
    "\n",
    "Menjalankan mode `Interactive` dengan perintah `python3` atau `python3.8`\n",
    "jika `python` yang digunakan versi `Python 3.8`\n",
    "$ python3.8\n",
    "```Python 3.8.6 (default, Oct  6 2020, 03:22:36) \n",
    "[GCC 7.5.0] on linux\n",
    "Type \"help\", \"copyright\", \"credits\" or \"license\" for more information.\n",
    ">>> ```\n",
    "\n",
    "Penulisan scripts dapat dilakukan di mode interactive setelah tanda\n",
    "_prompts_ (>>>), apabila diperlukan beberapa baris kode, (...) \n",
    "menandakan baris kode masih dalam satu blok.\n",
    "``` >>> name = 'irul'\n",
    ">>> if name == 'irul':\n",
    "...     print('Selamat datang!')\n",
    "...     print('Silahkan masuk.')\n",
    "... \n",
    "Selamat datang!\n",
    "Silahkan masuk.\n",
    ">>> ```"
   ]
  },
  {
   "cell_type": "markdown",
   "metadata": {},
   "source": [
    "### 2.2 Interpreter dan Lingkungannya\n",
    "#### 2.2.1 Pengkodean Kode Sumber\n",
    "Secara resmi, kode sumber Python menggunakan _UTF-8_, baik dalam\n",
    "bentuk `strings` normal, `identifier` maupun `comments`. \n",
    "Salah satu penulisan kode sumber secara umum di lingkungan _UNIX_\n",
    "menggunakan _\"shebang\"line_ di awal baris dalam kode sumber. Contohnya: \n",
    "#!/usr/bin/env python3"
   ]
  },
  {
   "cell_type": "markdown",
   "metadata": {},
   "source": [
    "## Bab 3 Perkenalan Python\n",
    "Di dalam interactive mode, penulisan kode sumber di mulai setelah tanda _prompts_\n",
    "dan (...) apabila lebih dari satu baris kode. \n",
    "\n",
    "Tanda ,#, digunakansebagai penanda komentar, komentar dapat ditulis di awal baris kode, baris\n",
    "setelah kode atau dalam satu baris kode, tapi tidak ditengah kode\n",
    "``` >>> # membuat variabel nama\n",
    " >>> nama = 'irul'       # penulisan komentar, lazimnya seperti ini\n",
    ">>> # komentar, variabel nama\n",
    ">>> nama\n",
    "'irul'\n",
    ">>> ```"
   ]
  },
  {
   "cell_type": "markdown",
   "metadata": {},
   "source": [
    "penulisan variabel, diawali dengan _identifier_ = _value"
   ]
  },
  {
   "cell_type": "markdown",
   "metadata": {},
   "source": [
    "### 3.1 Python sebagai Kalkulator\n",
    "#### 3.1.1 Bilangan\n",
    "Interpreter dapat dikatakan sebagai kalkulator simpel, operasi matematika\n",
    "seperti +, -, *, / dapat dijalankan secara langsung\n"
   ]
  },
  {
   "cell_type": "code",
   "execution_count": 1,
   "metadata": {},
   "outputs": [
    {
     "data": {
      "text/plain": [
       "4"
      ]
     },
     "execution_count": 1,
     "metadata": {},
     "output_type": "execute_result"
    }
   ],
   "source": [
    "2 + 2"
   ]
  },
  {
   "cell_type": "code",
   "execution_count": 2,
   "metadata": {},
   "outputs": [
    {
     "data": {
      "text/plain": [
       "8"
      ]
     },
     "execution_count": 2,
     "metadata": {},
     "output_type": "execute_result"
    }
   ],
   "source": [
    "2 * 4"
   ]
  },
  {
   "cell_type": "markdown",
   "metadata": {},
   "source": [
    "Salah satu tipe data dalam python adalah bilangan, bilangan terdiri dari _int_ atau bilangan bulat, _float_ atau bilangan pecahan. Operasi (/) dalam python selalu menghasilkan _float_."
   ]
  },
  {
   "cell_type": "code",
   "execution_count": 4,
   "metadata": {},
   "outputs": [
    {
     "data": {
      "text/plain": [
       "500.0"
      ]
     },
     "execution_count": 4,
     "metadata": {},
     "output_type": "execute_result"
    }
   ],
   "source": [
    "1000 / 2"
   ]
  },
  {
   "cell_type": "markdown",
   "metadata": {},
   "source": [
    "Selain operator dasar, python mengenal operator **, //, %, "
   ]
  },
  {
   "cell_type": "code",
   "execution_count": 6,
   "metadata": {},
   "outputs": [
    {
     "data": {
      "text/plain": [
       "8"
      ]
     },
     "execution_count": 6,
     "metadata": {},
     "output_type": "execute_result"
    }
   ],
   "source": [
    "2 ** 3"
   ]
  },
  {
   "cell_type": "code",
   "execution_count": 8,
   "metadata": {},
   "outputs": [
    {
     "data": {
      "text/plain": [
       "3"
      ]
     },
     "execution_count": 8,
     "metadata": {},
     "output_type": "execute_result"
    }
   ],
   "source": [
    "10 // 3                       # pembulatan kebawah"
   ]
  },
  {
   "cell_type": "code",
   "execution_count": 9,
   "metadata": {},
   "outputs": [
    {
     "data": {
      "text/plain": [
       "3.3333333333333335"
      ]
     },
     "execution_count": 9,
     "metadata": {},
     "output_type": "execute_result"
    }
   ],
   "source": [
    "10 / 3"
   ]
  },
  {
   "cell_type": "code",
   "execution_count": 10,
   "metadata": {},
   "outputs": [
    {
     "data": {
      "text/plain": [
       "1"
      ]
     },
     "execution_count": 10,
     "metadata": {},
     "output_type": "execute_result"
    }
   ],
   "source": [
    "10 % 3                      # sisa dari pembagian"
   ]
  },
  {
   "cell_type": "markdown",
   "metadata": {},
   "source": [
    "Untuk mempermudah melakukan operasi matematika kompleks dapat digunakan _()_ untuk memisah operasi dan menentukan operasi mana yang akan dilakukan terlebih dahulu"
   ]
  },
  {
   "cell_type": "markdown",
   "metadata": {},
   "source": [
    "2 + 4 - (( 10 // 4) + ((6 ** 23)/ 33))"
   ]
  },
  {
   "cell_type": "markdown",
   "metadata": {},
   "source": [
    "## 3.1.2 Strings\n",
    "Selain bilangan, python mempunyai tipe data _string_, yaitu kumpulan karakter di dalam _single quote_ (' ... ') atau _double quotes_(\" ... \")."
   ]
  },
  {
   "cell_type": "code",
   "execution_count": 12,
   "metadata": {},
   "outputs": [
    {
     "data": {
      "text/plain": [
       "'ini string @#$%%%%'"
      ]
     },
     "execution_count": 12,
     "metadata": {},
     "output_type": "execute_result"
    }
   ],
   "source": [
    "\"ini string @#$%%%%\""
   ]
  },
  {
   "cell_type": "code",
   "execution_count": 13,
   "metadata": {},
   "outputs": [
    {
     "data": {
      "text/plain": [
       "'ini juga bentuk string 98984'"
      ]
     },
     "execution_count": 13,
     "metadata": {},
     "output_type": "execute_result"
    }
   ],
   "source": [
    "'ini juga bentuk string 98984'"
   ]
  },
  {
   "cell_type": "code",
   "execution_count": 14,
   "metadata": {},
   "outputs": [
    {
     "data": {
      "text/plain": [
       "\"doesn't\""
      ]
     },
     "execution_count": 14,
     "metadata": {},
     "output_type": "execute_result"
    }
   ],
   "source": [
    "'doesn\\'t'             # melewatkan karakter (') sebelum karakter t"
   ]
  },
  {
   "cell_type": "code",
   "execution_count": 18,
   "metadata": {},
   "outputs": [
    {
     "data": {
      "text/plain": [
       "'First line. \\nSECOND LINE'"
      ]
     },
     "execution_count": 18,
     "metadata": {},
     "output_type": "execute_result"
    }
   ],
   "source": [
    "s = \"First line. \\nSECOND LINE\" # melewatkan karakter n, dalam python dibaca newline\n",
    "s"
   ]
  },
  {
   "cell_type": "code",
   "execution_count": 19,
   "metadata": {},
   "outputs": [
    {
     "name": "stdout",
     "output_type": "stream",
     "text": [
      "First line. \n",
      "SECOND LINE\n"
     ]
    }
   ],
   "source": [
    "print(s)"
   ]
  },
  {
   "cell_type": "code",
   "execution_count": 25,
   "metadata": {},
   "outputs": [
    {
     "name": "stdout",
     "output_type": "stream",
     "text": [
      "C:\\USERS\\NAME\n"
     ]
    }
   ],
   "source": [
    "print(\"C:\\\\USERS\\\\NAME\")"
   ]
  },
  {
   "cell_type": "markdown",
   "metadata": {},
   "source": [
    "String dapat dituliskan dalam beberapa baris, dengan cara menggunakan _triple-quotes_ (\"\"\" .... \"\"\") atau (''' ... ')"
   ]
  },
  {
   "cell_type": "code",
   "execution_count": 26,
   "metadata": {},
   "outputs": [
    {
     "name": "stdout",
     "output_type": "stream",
     "text": [
      "\n",
      "    Usage : thingy [OPTIONS]\n",
      "            -h               Display this usage message\n",
      "            -H hostname      Hostname to connect to\n",
      "\n"
     ]
    }
   ],
   "source": [
    "print(\"\"\"\n",
    "    Usage : thingy [OPTIONS]\n",
    "            -h               Display this usage message\n",
    "            -H hostname      Hostname to connect to\n",
    "\"\"\")"
   ]
  },
  {
   "cell_type": "markdown",
   "metadata": {},
   "source": [
    "Strings dapat digabung dengan strings lain dengan + operator, dan dapat dilipat-gandakan menggunakan * operator"
   ]
  },
  {
   "cell_type": "code",
   "execution_count": 27,
   "metadata": {},
   "outputs": [
    {
     "name": "stdout",
     "output_type": "stream",
     "text": [
      "tiktok\n",
      "tiktiktik\n"
     ]
    }
   ],
   "source": [
    "print('tik' + 'tok')\n",
    "print('tik' * 3)"
   ]
  },
  {
   "cell_type": "markdown",
   "metadata": {},
   "source": [
    "Strings merupakan rangkaian karakter, tiap karakter memiliki index dan dapat diakses melalui index tersebut."
   ]
  },
  {
   "cell_type": "code",
   "execution_count": 29,
   "metadata": {},
   "outputs": [
    {
     "name": "stdout",
     "output_type": "stream",
     "text": [
      "P\n",
      "n\n"
     ]
    },
    {
     "ename": "IndexError",
     "evalue": "string index out of range",
     "output_type": "error",
     "traceback": [
      "\u001b[0;31m---------------------------------------------------------------------------\u001b[0m",
      "\u001b[0;31mIndexError\u001b[0m                                Traceback (most recent call last)",
      "\u001b[0;32m<ipython-input-29-a4f88f96b734>\u001b[0m in \u001b[0;36m<module>\u001b[0;34m\u001b[0m\n\u001b[1;32m      2\u001b[0m \u001b[0mprint\u001b[0m\u001b[0;34m(\u001b[0m\u001b[0mword\u001b[0m\u001b[0;34m[\u001b[0m\u001b[0;36m0\u001b[0m\u001b[0;34m]\u001b[0m\u001b[0;34m)\u001b[0m\u001b[0;34m\u001b[0m\u001b[0;34m\u001b[0m\u001b[0m\n\u001b[1;32m      3\u001b[0m \u001b[0mprint\u001b[0m\u001b[0;34m(\u001b[0m\u001b[0mword\u001b[0m\u001b[0;34m[\u001b[0m\u001b[0;36m5\u001b[0m\u001b[0;34m]\u001b[0m\u001b[0;34m)\u001b[0m\u001b[0;34m\u001b[0m\u001b[0;34m\u001b[0m\u001b[0m\n\u001b[0;32m----> 4\u001b[0;31m \u001b[0mprint\u001b[0m\u001b[0;34m(\u001b[0m\u001b[0mword\u001b[0m\u001b[0;34m[\u001b[0m\u001b[0;36m6\u001b[0m\u001b[0;34m]\u001b[0m\u001b[0;34m)\u001b[0m\u001b[0;34m\u001b[0m\u001b[0;34m\u001b[0m\u001b[0m\n\u001b[0m\u001b[1;32m      5\u001b[0m \u001b[0mprint\u001b[0m\u001b[0;34m(\u001b[0m\u001b[0mword\u001b[0m\u001b[0;34m[\u001b[0m\u001b[0;34m-\u001b[0m\u001b[0;36m1\u001b[0m\u001b[0;34m]\u001b[0m\u001b[0;34m)\u001b[0m\u001b[0;34m\u001b[0m\u001b[0;34m\u001b[0m\u001b[0m\n",
      "\u001b[0;31mIndexError\u001b[0m: string index out of range"
     ]
    }
   ],
   "source": [
    "word = 'Python'\n",
    "print(word[0])\n",
    "print(word[5])\n",
    "print(word[6])"
   ]
  },
  {
   "cell_type": "code",
   "execution_count": 30,
   "metadata": {},
   "outputs": [
    {
     "name": "stdout",
     "output_type": "stream",
     "text": [
      "n\n"
     ]
    }
   ],
   "source": [
    "print(word[-1])"
   ]
  },
  {
   "cell_type": "code",
   "execution_count": 31,
   "metadata": {},
   "outputs": [
    {
     "name": "stdout",
     "output_type": "stream",
     "text": [
      "Python\n"
     ]
    }
   ],
   "source": [
    "print(word[:])"
   ]
  },
  {
   "cell_type": "code",
   "execution_count": 32,
   "metadata": {},
   "outputs": [
    {
     "name": "stdout",
     "output_type": "stream",
     "text": [
      "Pyt\n"
     ]
    }
   ],
   "source": [
    "print(word[:3])"
   ]
  },
  {
   "cell_type": "code",
   "execution_count": 33,
   "metadata": {},
   "outputs": [
    {
     "data": {
      "text/plain": [
       "6"
      ]
     },
     "execution_count": 33,
     "metadata": {},
     "output_type": "execute_result"
    }
   ],
   "source": [
    "len(word)      # menampilkan panjang karakter"
   ]
  },
  {
   "cell_type": "code",
   "execution_count": 34,
   "metadata": {},
   "outputs": [
    {
     "name": "stdout",
     "output_type": "stream",
     "text": [
      "I love Python programming\n"
     ]
    }
   ],
   "source": [
    "print(f'I love {word} programming')   #, f-strings strings literal that have embedded expressions"
   ]
  },
  {
   "cell_type": "markdown",
   "metadata": {},
   "source": [
    "## 3.1.3 Lists\n",
    "List adalah tipe data yang memiliki beberapa kumpulan tipe data."
   ]
  },
  {
   "cell_type": "code",
   "execution_count": 36,
   "metadata": {},
   "outputs": [
    {
     "name": "stdout",
     "output_type": "stream",
     "text": [
      "[1, 2, 4545, 323]\n"
     ]
    }
   ],
   "source": [
    "list = [1, 2, 4545, 323]\n",
    "print(list)"
   ]
  },
  {
   "cell_type": "code",
   "execution_count": 38,
   "metadata": {},
   "outputs": [
    {
     "name": "stdout",
     "output_type": "stream",
     "text": [
      "[1, 2, 'strings1', 'str123', True, False, [1, 2, 4545, 323]]\n"
     ]
    }
   ],
   "source": [
    "list1 = [1, 2, 'strings1', 'str123', True, False, list] # True, False adalah tipe data Boolean\n",
    "print(list1)"
   ]
  },
  {
   "cell_type": "code",
   "execution_count": 39,
   "metadata": {},
   "outputs": [
    {
     "name": "stdout",
     "output_type": "stream",
     "text": [
      "[1, 2, 4545, 323, 123]\n"
     ]
    }
   ],
   "source": [
    "list.append(123)                # fungsi menambah data diakhir list\n",
    "print(list)"
   ]
  },
  {
   "cell_type": "code",
   "execution_count": null,
   "metadata": {},
   "outputs": [],
   "source": [
    "len(list)                       # fungsi menampilkan panjang list"
   ]
  },
  {
   "cell_type": "code",
   "execution_count": 40,
   "metadata": {},
   "outputs": [
    {
     "data": {
      "text/plain": [
       "1"
      ]
     },
     "execution_count": 40,
     "metadata": {},
     "output_type": "execute_result"
    }
   ],
   "source": [
    "list[0]"
   ]
  },
  {
   "cell_type": "code",
   "execution_count": 42,
   "metadata": {},
   "outputs": [
    {
     "data": {
      "text/plain": [
       "[1, 4545, 123]"
      ]
     },
     "execution_count": 42,
     "metadata": {},
     "output_type": "execute_result"
    }
   ],
   "source": [
    "list[::2]                       # [start:end:jangka]"
   ]
  }
 ],
 "metadata": {
  "kernelspec": {
   "display_name": "Python 3",
   "language": "python",
   "name": "python3"
  },
  "language_info": {
   "codemirror_mode": {
    "name": "ipython",
    "version": 3
   },
   "file_extension": ".py",
   "mimetype": "text/x-python",
   "name": "python",
   "nbconvert_exporter": "python",
   "pygments_lexer": "ipython3",
   "version": "3.8.6"
  }
 },
 "nbformat": 4,
 "nbformat_minor": 4
}
