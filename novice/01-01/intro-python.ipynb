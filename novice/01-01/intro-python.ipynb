{
 "cells": [
  {
   "cell_type": "markdown",
   "metadata": {},
   "source": [
    "# Python Tutorial"
   ]
  },
  {
   "cell_type": "markdown",
   "metadata": {},
   "source": [
    "## Bab 1\n",
    "Python adalah salah satu bahasa pemrograman tingkat tinggi \n",
    "karena sintak yang mirip dengan bahasa manusia. Python memiliki \n",
    "struktur dan dukungan yang luat dalam pembuatan program, tipe data tingkat tinggi\n",
    "seperti arrays dan dictionary yang fleksibel. Python dapat diaplikasikan\n",
    "ke berbagai bidang, contohnya web development, Artificial Inteligence, Machine Learning,\n",
    "Data Scientist dan lain sebagainya.\n",
    "Python merupakan bahasa interpretasi, kode sumber python dapat langsung\n",
    "dieksekusi tanpa harus melalui proses _write/compile/test/re-compile_.\n",
    "Python memungkinkan suatu program dapat ditulis lebih padat dan mudah dibaca.\n",
    "Penulisan kode sumber Python lebih sedikit dibanding dengan bahasa C, C++ ataupun Java,\n",
    "karena beberapa hal:\n",
    "    1. Tipe data tingkat tinggi dapat ditulis dalam sebuah baris kode\n",
    "    2. Penggunaan identasi sebagai penanda suatu blok kode\n",
    "    3. Tidak perlu menuliskan tipe data suatu variabel.\n",
    "    \n",
    "---"
   ]
  },
  {
   "cell_type": "markdown",
   "metadata": {},
   "source": [
    "## Bab 2 Penggunaan Interpreter\n",
    "\n",
    "### 2.1 Memanggil Intreprer\n",
    "Python interpreter biasanya berada `/usr/local/bin/python3`, untuk memanggil intepreter menggunakan perintah `python3`"
   ]
  },
  {
   "cell_type": "code",
   "execution_count": null,
   "metadata": {},
   "outputs": [],
   "source": [
    "setelah selesai, gunakan perintah `quit()` atau tekan`Control-D`. "
   ]
  },
  {
   "cell_type": "code",
   "execution_count": null,
   "metadata": {},
   "outputs": [],
   "source": [
    "#### 2.1.1 Argument Passing\n",
    "Interpreter dapat digunakan untuk menjalankan kode sumber, biasanya \n",
    "diperlukan beberapa _arguments_ dalam bentuk _list_ dari beberapa .\n",
    "`List` `argument` dapat diakses melalui `import sys`, banyaknya `argument`\n",
    "setidaknya ada satu. `sys.argv[0]` artinya tidak ada _argument_ yang\n",
    "disyaratkan kode sumber."
   ]
  },
  {
   "cell_type": "code",
   "execution_count": null,
   "metadata": {},
   "outputs": [],
   "source": [
    "#### 2.1.2 Mode Interactive\n",
    "\n",
    "Menjalankan mode `Interactive` dengan perintah `python3` atau `python3.8`\n",
    "jika `python` yang digunakan versi `Python 3.8`\n",
    "$ python3.8\n",
    "```Python 3.8.6 (default, Oct  6 2020, 03:22:36) \n",
    "[GCC 7.5.0] on linux\n",
    "Type \"help\", \"copyright\", \"credits\" or \"license\" for more information.\n",
    ">>> ```\n",
    "\n",
    "Penulisan scripts dapat dilakukan di mode interactive setelah tanda\n",
    "_prompts_ (>>>), apabila diperlukan beberapa baris kode, (...) \n",
    "menandakan baris kode masih dalam satu blok.\n",
    ">>> name = 'irul'\n",
    ">>> if name == 'irul':\n",
    "...     print('Selamat datang!')\n",
    "...     print('Silahkan masuk.')\n",
    "... \n",
    "Selamat datang!\n",
    "Silahkan masuk.\n",
    ">>> "
   ]
  },
  {
   "cell_type": "code",
   "execution_count": null,
   "metadata": {},
   "outputs": [],
   "source": [
    "### 2.2 Interpreter dan Lingkungannya\n",
    "#### 2.2.1 Pengkodean Kode Sumber\n",
    "Secara resmi, kode sumber Python menggunakan _UTF-8_, baik dalam\n",
    "bentuk `strings` normal, `identifier` maupun `comments`. \n",
    "Salah satu penulisan kode sumber secara umum di lingkungan _UNIX_\n",
    "menggunakan _\"shebang\"line_ di awal baris dalam kode sumber. Contohnya: \n",
    "#!/usr/bin/env python3"
   ]
  },
  {
   "cell_type": "code",
   "execution_count": null,
   "metadata": {},
   "outputs": [],
   "source": [
    "## Bab 3 Perkenalan Python\n",
    "Di dalam interactive mode, penulisan kode sumber di mulai setelah tanda _prompts_\n",
    "dan (...) apabila lebih dari satu baris kode. \n",
    "\n",
    "Tanda ,#, digunakansebagai penanda komentar, komentar dapat ditulis di awal baris kode, baris\n",
    "setelah kode atau dalam satu baris kode, tapi tidak ditengah kode\n",
    ">>> # membuat variabel nama\n",
    ">>> nama = 'irul'       # penulisan komentar, lazimnya seperti ini\n",
    ">>> # komentar, variabel nama\n",
    ">>> nama\n",
    "'irul'\n",
    ">>> \n"
   ]
  },
  {
   "cell_type": "code",
   "execution_count": null,
   "metadata": {},
   "outputs": [],
   "source": [
    "### 3.1 Python sebagai Kalkulator\n",
    "#### 3.1.1 Bilangan\n",
    "Interpreter dapat dikatakan sebagai kalkulator simpel, operasi matematika\n",
    "seperti +, -, *, / dapat dijalankan secara langsung\n",
    ">>> 1 + 2\n",
    "3\n",
    ">>> 3 - 2\n",
    "1\n",
    ">>> 2 * 2\n",
    "4\n",
    ">>> 4 / 2\n",
    "2.0\n",
    ">>> \n"
   ]
  }
 ],
 "metadata": {
  "kernelspec": {
   "display_name": "Python 3",
   "language": "python",
   "name": "python3"
  },
  "language_info": {
   "codemirror_mode": {
    "name": "ipython",
    "version": 3
   },
   "file_extension": ".py",
   "mimetype": "text/x-python",
   "name": "python",
   "nbconvert_exporter": "python",
   "pygments_lexer": "ipython3",
   "version": "3.8.6"
  }
 },
 "nbformat": 4,
 "nbformat_minor": 4
}
