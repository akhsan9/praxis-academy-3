{
 "cells": [
  {
   "cell_type": "markdown",
   "metadata": {},
   "source": [
    "# CRC Cards\n",
    "adalah alat untuk menggambarkan kelas-kelas diagram dalam suatu sistem dan hubungan logis antar kelas.\n",
    "CRC merupakan singkatan dari Class, Responsibility dan Collabortors.\n",
    "\n",
    "Class :\n",
    ">- Nama kelas\n",
    ">- Menunjukkan domain permasalahan\n",
    "  \n",
    "Responsibilities :\n",
    ">- Fungsi suatu kelas\n",
    ">- Informasi yang disimpan\n",
    "\n",
    "Collaborator:\n",
    ">- Kelas lain yang terkait\n",
    ">- Hubungan tidak simetris\n",
    "\n",
    "---\n",
    "\n",
    "| ClasName      |             | \n",
    "| :---          |    :----:   | \n",
    "|                  |                     |\n",
    "| Responsibility   | Collaborator        | \n",
    "|                  |                     | \n",
    "\n",
    "---\n",
    "contoh CRC Cards : Petani\n",
    "\n",
    "|Class: Petani    |                |\n",
    "|  :----          |:------         |\n",
    "|                 |                |\n",
    "| Responsibility: | Collaborators: |\n",
    "| - Memiliki Nama |                |\n",
    "| - Membajak sawah | - Sawah        |\n",
    "| - Menanam        | - Bibit         |\n",
    "\n",
    "------\n",
    "\n",
    "| Sawah       |          |\n",
    "|  :---       |  :----   |\n",
    "|             |          |\n",
    "| - lokasi        | - Petani |\n",
    "| - memiliki luas | - Bibit  |\n",
    "|                 |          |\n",
    "\n",
    "----\n",
    "\n",
    "| Bibit  |       |\n",
    "| :----- |  :--- |\n",
    "| - memiliki id bibit | - Petani    |\n",
    "| - memiliki jenis    | - Sawah     |"
   ]
  },
  {
   "cell_type": "markdown",
   "metadata": {},
   "source": [
    "# Object-Oriented Programming\n",
    "\n",
    "## Object\n",
    "_Object_ adalah sekumpulan data yang mempunyai fungsi dan properti. Semua data dalam Python merupakan object, artinya suatu data dalam python, terdapat fungsi dan properti yang selalu melekat. Suatu fungsi dalam object dikenal dengan __methods__ dan properti dikenal __attributes__.\n",
    "\n",
    "## Class\n",
    "_Class_ adalah cetak biru suatu object. Class merupakan struktur yang memungkinkan membuat beberapa object dengan methods dan attributes yang sama, hal ini karena sistem pewarisan."
   ]
  },
  {
   "cell_type": "code",
   "execution_count": 3,
   "metadata": {},
   "outputs": [
    {
     "name": "stdout",
     "output_type": "stream",
     "text": [
      "<__main__.Petani object at 0x7f28d0c82640>\n",
      "Pak Tani\n"
     ]
    }
   ],
   "source": [
    "# contoh Class\n",
    "class Petani:\n",
    "    pass\n",
    "\n",
    "# contoh object\n",
    "Petani1 = Petani()         # instance\n",
    "print(Petani1)\n",
    "Petani.name = \"Pak Tani\"\n",
    "print(Petani.name)\n"
   ]
  },
  {
   "cell_type": "code",
   "execution_count": 5,
   "metadata": {},
   "outputs": [
    {
     "name": "stdout",
     "output_type": "stream",
     "text": [
      "Pak Tani\n"
     ]
    }
   ],
   "source": [
    "# self\n",
    "class Petani:\n",
    "    def __init__(self, name):        # __init__ adalah fungsi yang akan dijalankan saat object dibuat\n",
    "        self.name = name\n",
    "Petani1 = Petani(\"Pak Tani\")\n",
    "print(Petani1.name)"
   ]
  },
  {
   "cell_type": "code",
   "execution_count": 2,
   "metadata": {},
   "outputs": [
    {
     "ename": "TypeError",
     "evalue": "__init__() missing 1 required positional argument: 'nama'",
     "output_type": "error",
     "traceback": [
      "\u001b[0;31m---------------------------------------------------------------------------\u001b[0m",
      "\u001b[0;31mTypeError\u001b[0m                                 Traceback (most recent call last)",
      "\u001b[0;32m<ipython-input-2-823c81340168>\u001b[0m in \u001b[0;36m<module>\u001b[0;34m\u001b[0m\n\u001b[1;32m      4\u001b[0m     \u001b[0;32mdef\u001b[0m \u001b[0m__init__\u001b[0m\u001b[0;34m(\u001b[0m\u001b[0mself\u001b[0m\u001b[0;34m,\u001b[0m \u001b[0mnama\u001b[0m\u001b[0;34m)\u001b[0m\u001b[0;34m:\u001b[0m        \u001b[0;31m# variabel yang akan adi di object\u001b[0m\u001b[0;34m\u001b[0m\u001b[0;34m\u001b[0m\u001b[0m\n\u001b[1;32m      5\u001b[0m         \u001b[0mself\u001b[0m\u001b[0;34m.\u001b[0m\u001b[0mnama\u001b[0m \u001b[0;34m=\u001b[0m \u001b[0mnama\u001b[0m\u001b[0;34m\u001b[0m\u001b[0;34m\u001b[0m\u001b[0m\n\u001b[0;32m----> 6\u001b[0;31m \u001b[0mPetani1\u001b[0m \u001b[0;34m=\u001b[0m \u001b[0mPetani\u001b[0m\u001b[0;34m(\u001b[0m\u001b[0;34m)\u001b[0m\u001b[0;34m\u001b[0m\u001b[0;34m\u001b[0m\u001b[0m\n\u001b[0m\u001b[1;32m      7\u001b[0m \u001b[0mprint\u001b[0m\u001b[0;34m(\u001b[0m\u001b[0mPetani1\u001b[0m\u001b[0;34m.\u001b[0m\u001b[0mnama\u001b[0m\u001b[0;34m)\u001b[0m\u001b[0;34m\u001b[0m\u001b[0;34m\u001b[0m\u001b[0m\n",
      "\u001b[0;31mTypeError\u001b[0m: __init__() missing 1 required positional argument: 'nama'"
     ]
    }
   ],
   "source": []
  },
  {
   "cell_type": "code",
   "execution_count": null,
   "metadata": {},
   "outputs": [],
   "source": []
  }
 ],
 "metadata": {
  "kernelspec": {
   "display_name": "Python 3",
   "language": "python",
   "name": "python3"
  },
  "language_info": {
   "codemirror_mode": {
    "name": "ipython",
    "version": 3
   },
   "file_extension": ".py",
   "mimetype": "text/x-python",
   "name": "python",
   "nbconvert_exporter": "python",
   "pygments_lexer": "ipython3",
   "version": "3.8.6"
  }
 },
 "nbformat": 4,
 "nbformat_minor": 4
}
