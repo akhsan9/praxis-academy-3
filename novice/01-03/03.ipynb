{
 "cells": [
  {
   "cell_type": "markdown",
   "metadata": {},
   "source": [
    "# CRC Cards\n",
    "adalah alat untuk menggambarkan kelas-kelas diagram dalam suatu sistem dan hubungan logis antar kelas.\n",
    "CRC merupakan singkatan dari Class, Responsibility dan Collabortors.\n",
    "\n",
    "Class :\n",
    ">- Nama kelas\n",
    ">- Menunjukkan domain permasalahan\n",
    "  \n",
    "Responsibilities :\n",
    ">- Fungsi suatu kelas\n",
    ">- Informasi yang disimpan\n",
    "\n",
    "Collaborator:\n",
    ">- Kelas lain yang terkait\n",
    ">- Hubungan tidak simetris\n",
    "\n",
    "---\n",
    "\n",
    "| ClasName      |             | \n",
    "| :---          |    :----:   | \n",
    "| Responsibility   | Collaborator        | \n",
    "\n",
    "\n",
    "contoh CRC Cards : Petani\n",
    "\n",
    "|Class: Petani    |                |\n",
    "|  :----          |:------         |\n",
    "| Responsibility: | Collaborators: |\n",
    "| - Memiliki Nama |                |\n",
    "| - Membajak sawah | - Sawah        |\n",
    "| - Menanam        | - Bibit         |\n",
    "\n",
    "\n",
    "| Sawah       |          |\n",
    "|  :---       |  :----   |\n",
    "| - lokasi        | - Petani |\n",
    "| - memiliki luas | - Bibit  |\n",
    "\n",
    "\n",
    "\n",
    "\n",
    "| Bibit  |       |\n",
    "| :----- |  :--- |\n",
    "| - memiliki id bibit | - Petani    |\n",
    "| - memiliki jenis    | - Sawah     |"
   ]
  },
  {
   "cell_type": "markdown",
   "metadata": {},
   "source": [
    "# Object-Oriented Programming\n",
    "\n",
    "\n",
    "\n",
    "## Object\n",
    "_Object_ adalah sekumpulan data yang mempunyai fungsi dan properti. Semua data dalam Python merupakan object, artinya suatu data dalam python, terdapat fungsi dan properti yang selalu melekat. Suatu fungsi dalam object dikenal dengan __methods__ dan properti dikenal __attributes__.\n",
    "\n",
    "## Class\n",
    "_Class_ adalah cetak biru suatu object. Class merupakan struktur yang memungkinkan membuat beberapa object dengan methods dan attributes yang sama, hal ini karena sistem pewarisan."
   ]
  },
  {
   "cell_type": "code",
   "execution_count": 3,
   "metadata": {},
   "outputs": [
    {
     "name": "stdout",
     "output_type": "stream",
     "text": [
      "<__main__.Petani object at 0x7f28d0c82640>\n",
      "Pak Tani\n"
     ]
    }
   ],
   "source": [
    "# contoh Class\n",
    "class Petani:\n",
    "    pass\n",
    "\n",
    "# contoh object\n",
    "Petani1 = Petani()         # instance\n",
    "print(Petani1)\n",
    "Petani.name = \"Pak Tani\"\n",
    "print(Petani.name)\n"
   ]
  },
  {
   "cell_type": "code",
   "execution_count": null,
   "metadata": {},
   "outputs": [],
   "source": [
    "from petani import Petani as p\n",
    "from petani import Lahan as l\n",
    "from petani import Bibit as b\n",
    "\n",
    "n = p(\"iroel\", \"sawah\")\n",
    "print(f'Object {n}, mempunyai atribut nama : {n.name} dan atribut lahan : {n.lahan}')\n",
    "print()\n",
    "s = l(\"iroel\", \"sawah\")\n",
    "print(f'Object {s}, mempunyai atribut nama : {s.name} dan atribut lahan : {s.lahan}')\n",
    "print(f'fungsi membajak() dengan parameter luas lahan : {s.membajak(2)}')\n",
    "print()\n",
    "c = b(\"iroel\", \"sawah\")\n",
    "print(f'Object {c}, mempunyai atribut nama : {c.name} dan atribut lahan : {c.lahan}')\n",
    "print(f'fungsi menanam() dengan parameter bibit : {c.menanam(\"cabai\")}')\n",
    "print()\n",
    "print(p.all_petani)"
   ]
  },
  {
   "cell_type": "markdown",
   "metadata": {},
   "source": [
    "# Standar Library\n",
    "Python memiliki filosi __\"batteries included\"__ artinya di dalam instalasi Python telah tercakup library-library penting untuk mempermudah dalam menyelesaikan suatu persoalan. Library adalah kumpulan modul yang mempermudah dalam melakukan tugas tertentu. Standar Library di Python merupakan kumpulan modul yang sudah terinstall di Python dan dapat kita gunakan langsung dalam sistem dan sudah diuji. Standard Library meliputi modul untuk berinteraksi dengan sistem operasi, interpreter, internet,  database, struktur data dsb. Untuk menggunakan module tersebut dapat menggunakan syntax sebagai berikut `import nama_module`.\n",
    "\n",
    "Beberapa aplikasi standard Library di Python:"
   ]
  },
  {
   "cell_type": "code",
   "execution_count": 12,
   "metadata": {},
   "outputs": [
    {
     "name": "stdout",
     "output_type": "stream",
     "text": [
      "/home/elmos/praxs/praxis-academy/novice/01-03\n",
      "posix\n",
      "<class 'module'>\n"
     ]
    }
   ],
   "source": [
    "# Antarmuka Sstem Operasi\n",
    "import os                # import module OS, untuk berinteraksi operating system\n",
    "print(os.getcwd())              # menampilkan working directory\n",
    "print(os.name)\n",
    "print(type(math))"
   ]
  },
  {
   "cell_type": "code",
   "execution_count": 10,
   "metadata": {},
   "outputs": [
    {
     "name": "stdout",
     "output_type": "stream",
     "text": [
      "['__doc__', '__loader__', '__name__', '__package__', '__spec__', 'acos', 'acosh', 'asin', 'asinh', 'atan', 'atan2', 'atanh', 'ceil', 'comb', 'copysign', 'cos', 'cosh', 'degrees', 'dist', 'e', 'erf', 'erfc', 'exp', 'expm1', 'fabs', 'factorial', 'floor', 'fmod', 'frexp', 'fsum', 'gamma', 'gcd', 'hypot', 'inf', 'isclose', 'isfinite', 'isinf', 'isnan', 'isqrt', 'ldexp', 'lgamma', 'log', 'log10', 'log1p', 'log2', 'modf', 'nan', 'perm', 'pi', 'pow', 'prod', 'radians', 'remainder', 'sin', 'sinh', 'sqrt', 'tan', 'tanh', 'tau', 'trunc']\n",
      "3.141592653589793\n"
     ]
    }
   ],
   "source": [
    "# Matematika\n",
    "import math\n",
    "print(dir(math), end='')\n",
    "print()\n",
    "print(math.pi)"
   ]
  },
  {
   "cell_type": "code",
   "execution_count": 19,
   "metadata": {},
   "outputs": [
    {
     "name": "stdout",
     "output_type": "stream",
     "text": [
      "Bilangan random yang terpilih : 10\n",
      "[0, 1, 2, 3, 4, 5, 6, 7, 8, 9]\n"
     ]
    }
   ],
   "source": [
    "# Contoh penggunaan library random\n",
    "# source code : example_lib_rand.py\n",
    "# eksekusi : %run <nama file>.py\n",
    "%run example_lib_rand.py"
   ]
  },
  {
   "cell_type": "code",
   "execution_count": null,
   "metadata": {},
   "outputs": [],
   "source": []
  }
 ],
 "metadata": {
  "kernelspec": {
   "display_name": "Python 3",
   "language": "python",
   "name": "python3"
  },
  "language_info": {
   "codemirror_mode": {
    "name": "ipython",
    "version": 3
   },
   "file_extension": ".py",
   "mimetype": "text/x-python",
   "name": "python",
   "nbconvert_exporter": "python",
   "pygments_lexer": "ipython3",
   "version": "3.8.6"
  }
 },
 "nbformat": 4,
 "nbformat_minor": 4
}
