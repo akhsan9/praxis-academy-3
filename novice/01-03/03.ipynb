{
 "cells": [
  {
   "cell_type": "markdown",
   "metadata": {},
   "source": [
    "# CRC Cards\n",
    "adalah alat untuk menggambarkan kelas-kelas diagram dalam suatu sistem dan hubungan logis antar kelas.\n",
    "CRC merupakan singkatan dari Class, Responsibility dan Collabortors.\n",
    "\n",
    "Class :\n",
    ">- Nama kelas\n",
    ">- Menunjukkan domain permasalahan\n",
    "  \n",
    "Responsibilities :\n",
    ">- Fungsi suatu kelas\n",
    ">- Informasi yang disimpan\n",
    "\n",
    "Collaborator:\n",
    ">- Kelas lain yang terkait\n",
    ">- Hubungan tidak simetris\n",
    "\n",
    "---\n",
    "\n",
    "| ClasName      |             | \n",
    "| :---          |    :----:   | \n",
    "| Responsibility   | Collaborator        | \n",
    "\n",
    "\n",
    "contoh CRC Cards : Petani\n",
    "\n",
    "|Class: Petani    |                |\n",
    "|  :----          |:------         |\n",
    "| Responsibility: | Collaborators: |\n",
    "| - Memiliki Nama |                |\n",
    "| - Membajak sawah | - Sawah        |\n",
    "| - Menanam        | - Bibit         |\n",
    "\n",
    "\n",
    "| Sawah       |          |\n",
    "|  :---       |  :----   |\n",
    "| - lokasi        | - Petani |\n",
    "| - memiliki luas | - Bibit  |\n",
    "\n",
    "\n",
    "\n",
    "\n",
    "| Bibit  |       |\n",
    "| :----- |  :--- |\n",
    "| - memiliki id bibit | - Petani    |\n",
    "| - memiliki jenis    | - Sawah     |"
   ]
  },
  {
   "cell_type": "markdown",
   "metadata": {},
   "source": [
    "# Object-Oriented Programming\n",
    "\n",
    "## Object\n",
    "_Object_ adalah sekumpulan data yang mempunyai fungsi dan properti. Semua data dalam Python merupakan object, artinya suatu data dalam python, terdapat fungsi dan properti yang selalu melekat. Suatu fungsi dalam object dikenal dengan __methods__ dan properti dikenal __attributes__.\n",
    "\n",
    "## Class\n",
    "_Class_ adalah cetak biru suatu object. Class merupakan struktur yang memungkinkan membuat beberapa object dengan methods dan attributes yang sama, hal ini karena sistem pewarisan."
   ]
  },
  {
   "cell_type": "code",
   "execution_count": 3,
   "metadata": {},
   "outputs": [
    {
     "name": "stdout",
     "output_type": "stream",
     "text": [
      "<__main__.Petani object at 0x7f28d0c82640>\n",
      "Pak Tani\n"
     ]
    }
   ],
   "source": [
    "# contoh Class\n",
    "class Petani:\n",
    "    pass\n",
    "\n",
    "# contoh object\n",
    "Petani1 = Petani()         # instance\n",
    "print(Petani1)\n",
    "Petani.name = \"Pak Tani\"\n",
    "print(Petani.name)\n"
   ]
  },
  {
   "cell_type": "code",
   "execution_count": null,
   "metadata": {},
   "outputs": [],
   "source": []
  }
 ],
 "metadata": {
  "kernelspec": {
   "display_name": "Python 3",
   "language": "python",
   "name": "python3"
  },
  "language_info": {
   "codemirror_mode": {
    "name": "ipython",
    "version": 3
   },
   "file_extension": ".py",
   "mimetype": "text/x-python",
   "name": "python",
   "nbconvert_exporter": "python",
   "pygments_lexer": "ipython3",
   "version": "3.8.6"
  }
 },
 "nbformat": 4,
 "nbformat_minor": 4
}
